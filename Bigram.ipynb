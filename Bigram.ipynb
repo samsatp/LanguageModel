{
 "cells": [
  {
   "cell_type": "code",
   "execution_count": 14,
   "metadata": {},
   "outputs": [
    {
     "name": "stdout",
     "output_type": "stream",
     "text": [
      "(6651, 2)\n"
     ]
    },
    {
     "data": {
      "text/html": [
       "<div>\n",
       "<style scoped>\n",
       "    .dataframe tbody tr th:only-of-type {\n",
       "        vertical-align: middle;\n",
       "    }\n",
       "\n",
       "    .dataframe tbody tr th {\n",
       "        vertical-align: top;\n",
       "    }\n",
       "\n",
       "    .dataframe thead th {\n",
       "        text-align: right;\n",
       "    }\n",
       "</style>\n",
       "<table border=\"1\" class=\"dataframe\">\n",
       "  <thead>\n",
       "    <tr style=\"text-align: right;\">\n",
       "      <th></th>\n",
       "      <th>Etunimi</th>\n",
       "      <th>Lukumäärä</th>\n",
       "    </tr>\n",
       "  </thead>\n",
       "  <tbody>\n",
       "    <tr>\n",
       "      <th>0</th>\n",
       "      <td>Juha</td>\n",
       "      <td>44293</td>\n",
       "    </tr>\n",
       "    <tr>\n",
       "      <th>1</th>\n",
       "      <td>Timo</td>\n",
       "      <td>43711</td>\n",
       "    </tr>\n",
       "    <tr>\n",
       "      <th>2</th>\n",
       "      <td>Matti</td>\n",
       "      <td>40752</td>\n",
       "    </tr>\n",
       "    <tr>\n",
       "      <th>3</th>\n",
       "      <td>Kari</td>\n",
       "      <td>38967</td>\n",
       "    </tr>\n",
       "    <tr>\n",
       "      <th>4</th>\n",
       "      <td>Mikko</td>\n",
       "      <td>38053</td>\n",
       "    </tr>\n",
       "  </tbody>\n",
       "</table>\n",
       "</div>"
      ],
      "text/plain": [
       "  Etunimi  Lukumäärä\n",
       "0    Juha      44293\n",
       "1    Timo      43711\n",
       "2   Matti      40752\n",
       "3    Kari      38967\n",
       "4   Mikko      38053"
      ]
     },
     "execution_count": 14,
     "metadata": {},
     "output_type": "execute_result"
    }
   ],
   "source": [
    "import pandas as pd\n",
    "import os\n",
    "\n",
    "\"\"\"\n",
    "Read a file providing general Finnish names\n",
    "\"\"\"\n",
    "df = pd.read_excel(os.path.join('data','etunimitilasto-2022-08-04-dvv.xlsx'), sheet_name='Miehet ens')\n",
    "print(df.shape)\n",
    "df.head()"
   ]
  },
  {
   "cell_type": "code",
   "execution_count": 15,
   "metadata": {},
   "outputs": [
    {
     "name": "stdout",
     "output_type": "stream",
     "text": [
      "['y', 'ã', '-', 'j', 'é', 'p', 'q', 'å', 'o', 'ú', 'h', 'ë', 'l', 'ø', 'ò', 'ö', 'õ', 'n', 'ä', 's', 't', 'i', 'r', 'u', 'k', 'è', 'b', 'f', 'c', 'á', 'v', 'í', 'ó', 'ç', 'w', 'z', \"'\", 'a', 'e', 'x', 'd', 'g', '.', 'ü', 'm']\n"
     ]
    }
   ],
   "source": [
    "\"\"\"\n",
    "Create a list of all possible characters\n",
    "\"\"\"\n",
    "names = list(df.Etunimi.str.lower())\n",
    "chars = set(''.join(names))\n",
    "print([e for e in chars])"
   ]
  },
  {
   "cell_type": "code",
   "execution_count": 16,
   "metadata": {},
   "outputs": [],
   "source": [
    "\"\"\"\n",
    "Create look-up dictionaries:\n",
    "- c2i: to map a character to an index\n",
    "- i2c: to map the other way\n",
    "\"\"\"\n",
    "\n",
    "c2i = {c:i for i, c in enumerate(chars, start=1)}\n",
    "c2i['<s>'] = 0\n",
    "c2i['<e>'] = len(c2i)\n",
    "\n",
    "i2c = {i:c for c, i in c2i.items()}"
   ]
  },
  {
   "cell_type": "code",
   "execution_count": 17,
   "metadata": {},
   "outputs": [],
   "source": [
    "\"\"\"\n",
    "Create an N matrix to store counts where\n",
    "N[i,j] refers to a count of bigram (i2c[i],i2c[j])\n",
    "\"\"\"\n",
    "\n",
    "import numpy as np\n",
    "\n",
    "N = np.ones(shape=(len(c2i),len(c2i)))  # Add-one smoothing\n",
    "\n",
    "for name in names:\n",
    "    name_chars = list(name)\n",
    "    bigrams = [(a,b) for a,b in zip(['<s>'] + name_chars, name_chars + ['<e>'])]\n",
    "    for a, b in bigrams:\n",
    "        N[c2i[a], c2i[b]] += 1"
   ]
  },
  {
   "cell_type": "code",
   "execution_count": 18,
   "metadata": {},
   "outputs": [
    {
     "data": {
      "text/plain": [
       "[(('i', '<e>'), 1089.0),\n",
       " (('a', 'n'), 1045.0),\n",
       " (('n', '<e>'), 877.0),\n",
       " (('a', 'r'), 853.0),\n",
       " (('<s>', 'a'), 852.0),\n",
       " (('r', 'i'), 844.0),\n",
       " (('o', '<e>'), 710.0),\n",
       " (('e', 'r'), 704.0),\n",
       " (('<s>', 'j'), 676.0),\n",
       " (('k', 'a'), 635.0)]"
      ]
     },
     "execution_count": 18,
     "metadata": {},
     "output_type": "execute_result"
    }
   ],
   "source": [
    "\"\"\"\n",
    "Data exploration: Find the most frequent bigrams\n",
    "\"\"\"\n",
    "idx = [(i, j) for i in range(len(c2i)) for j in range(len(c2i))]\n",
    "bigrams = {(i2c[a],i2c[b]): N[a,b] for (a,b) in idx}\n",
    "\n",
    "sorted(bigrams.items(), key=lambda kv:-kv[1])[:10]"
   ]
  },
  {
   "cell_type": "code",
   "execution_count": 19,
   "metadata": {},
   "outputs": [],
   "source": [
    "\"\"\"\n",
    "Create a probapility matrix P\n",
    "\"\"\"\n",
    "\n",
    "normalization = N.sum(axis=1, keepdims=True)\n",
    "P = N / normalization"
   ]
  },
  {
   "cell_type": "code",
   "execution_count": 28,
   "metadata": {},
   "outputs": [
    {
     "name": "stdout",
     "output_type": "stream",
     "text": [
      "avoi\n",
      "piril\n",
      "hacqaremm\n",
      "perconil-ãnjoomam\n",
      "j\n",
      "aneun\n",
      "ai\n",
      "hor\n",
      "alirsera\n",
      "mir\n"
     ]
    }
   ],
   "source": [
    "\"\"\"\n",
    "Generate new Finnish names using bigram model\n",
    "\"\"\"\n",
    "\n",
    "for _ in range(10):\n",
    "    tokens = ['<s>']\n",
    "    while True:\n",
    "        recent = tokens[-1]\n",
    "        next_token_idx = np.random.multinomial(n=1, pvals=P[c2i[recent]]).argmax()\n",
    "        tokens.append(i2c[next_token_idx])\n",
    "\n",
    "        if i2c[next_token_idx] == '<e>':\n",
    "            break\n",
    "\n",
    "    print(''.join(tokens[1:-1]))"
   ]
  },
  {
   "cell_type": "code",
   "execution_count": null,
   "metadata": {},
   "outputs": [],
   "source": []
  }
 ],
 "metadata": {
  "kernelspec": {
   "display_name": "Python 3",
   "language": "python",
   "name": "python3"
  },
  "language_info": {
   "codemirror_mode": {
    "name": "ipython",
    "version": 3
   },
   "file_extension": ".py",
   "mimetype": "text/x-python",
   "name": "python",
   "nbconvert_exporter": "python",
   "pygments_lexer": "ipython3",
   "version": "3.10.7 (tags/v3.10.7:6cc6b13, Sep  5 2022, 14:08:36) [MSC v.1933 64 bit (AMD64)]"
  },
  "orig_nbformat": 4,
  "vscode": {
   "interpreter": {
    "hash": "93d343a67186057eba7cc3f4fb38dbcf94a41bc6d951d30420561a381ab22bcf"
   }
  }
 },
 "nbformat": 4,
 "nbformat_minor": 2
}

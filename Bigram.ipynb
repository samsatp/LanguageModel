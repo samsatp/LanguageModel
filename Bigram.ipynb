{
 "cells": [
  {
   "cell_type": "code",
   "execution_count": 72,
   "metadata": {},
   "outputs": [
    {
     "name": "stdout",
     "output_type": "stream",
     "text": [
      "(6651, 2)\n"
     ]
    },
    {
     "data": {
      "text/html": [
       "<div>\n",
       "<style scoped>\n",
       "    .dataframe tbody tr th:only-of-type {\n",
       "        vertical-align: middle;\n",
       "    }\n",
       "\n",
       "    .dataframe tbody tr th {\n",
       "        vertical-align: top;\n",
       "    }\n",
       "\n",
       "    .dataframe thead th {\n",
       "        text-align: right;\n",
       "    }\n",
       "</style>\n",
       "<table border=\"1\" class=\"dataframe\">\n",
       "  <thead>\n",
       "    <tr style=\"text-align: right;\">\n",
       "      <th></th>\n",
       "      <th>Etunimi</th>\n",
       "      <th>Lukumäärä</th>\n",
       "    </tr>\n",
       "  </thead>\n",
       "  <tbody>\n",
       "    <tr>\n",
       "      <th>0</th>\n",
       "      <td>Juha</td>\n",
       "      <td>44293</td>\n",
       "    </tr>\n",
       "    <tr>\n",
       "      <th>1</th>\n",
       "      <td>Timo</td>\n",
       "      <td>43711</td>\n",
       "    </tr>\n",
       "    <tr>\n",
       "      <th>2</th>\n",
       "      <td>Matti</td>\n",
       "      <td>40752</td>\n",
       "    </tr>\n",
       "    <tr>\n",
       "      <th>3</th>\n",
       "      <td>Kari</td>\n",
       "      <td>38967</td>\n",
       "    </tr>\n",
       "    <tr>\n",
       "      <th>4</th>\n",
       "      <td>Mikko</td>\n",
       "      <td>38053</td>\n",
       "    </tr>\n",
       "  </tbody>\n",
       "</table>\n",
       "</div>"
      ],
      "text/plain": [
       "  Etunimi  Lukumäärä\n",
       "0    Juha      44293\n",
       "1    Timo      43711\n",
       "2   Matti      40752\n",
       "3    Kari      38967\n",
       "4   Mikko      38053"
      ]
     },
     "execution_count": 72,
     "metadata": {},
     "output_type": "execute_result"
    }
   ],
   "source": [
    "import pandas as pd\n",
    "import os\n",
    "\n",
    "df = pd.read_excel(os.path.join('data','etunimitilasto-2022-08-04-dvv.xlsx'), sheet_name='Miehet ens')\n",
    "print(df.shape)\n",
    "df.head()"
   ]
  },
  {
   "cell_type": "code",
   "execution_count": 73,
   "metadata": {},
   "outputs": [
    {
     "name": "stdout",
     "output_type": "stream",
     "text": [
      "['ø', 'ü', 'ö', 'h', 'å', 'w', 'ó', 'n', 'k', 'l', 'ä', 'v', 'f', 'ò', 'ú', '-', 'm', 'ã', 'o', 'u', 'ë', 'q', 'y', 'j', 't', 'r', 'ç', 'x', 'è', 'a', 'é', 'e', 'g', 'c', 'z', \"'\", '.', 'i', 'õ', 's', 'd', 'á', 'p', 'b', 'í']\n"
     ]
    }
   ],
   "source": [
    "names = list(df.Etunimi.str.lower())\n",
    "chars = set(''.join(names))\n",
    "print([e for e in chars])"
   ]
  },
  {
   "cell_type": "code",
   "execution_count": 74,
   "metadata": {},
   "outputs": [],
   "source": [
    "c2i = {c:i for i, c in enumerate(chars, start=1)}\n",
    "c2i['<s>'] = 0\n",
    "c2i['<e>'] = len(c2i)\n",
    "\n",
    "i2c = {i:c for c, i in c2i.items()}"
   ]
  },
  {
   "cell_type": "code",
   "execution_count": 75,
   "metadata": {},
   "outputs": [],
   "source": [
    "import numpy as np\n",
    "\n",
    "N = np.zeros(shape=(len(c2i),len(c2i)))\n",
    "\n",
    "for name in names:\n",
    "    name_chars = list(name)\n",
    "    bigrams = [(a,b) for a,b in zip(['<s>'] + name_chars, name_chars + ['<e>'])]\n",
    "    for a, b in bigrams:\n",
    "        N[c2i[a], c2i[b]] += 1"
   ]
  },
  {
   "attachments": {},
   "cell_type": "markdown",
   "metadata": {},
   "source": [
    "Find the best bigram"
   ]
  },
  {
   "cell_type": "code",
   "execution_count": 76,
   "metadata": {},
   "outputs": [],
   "source": [
    "idx = [(i, j) for i in range(len(c2i)) for j in range(len(c2i))]\n",
    "bigrams = {(i2c[a],i2c[b]): N[a,b] for (a,b) in idx}"
   ]
  },
  {
   "cell_type": "code",
   "execution_count": 77,
   "metadata": {},
   "outputs": [
    {
     "data": {
      "text/plain": [
       "[(('i', '<e>'), 1088.0),\n",
       " (('a', 'n'), 1044.0),\n",
       " (('n', '<e>'), 876.0),\n",
       " (('a', 'r'), 852.0),\n",
       " (('<s>', 'a'), 851.0),\n",
       " (('r', 'i'), 843.0),\n",
       " (('o', '<e>'), 709.0),\n",
       " (('e', 'r'), 703.0),\n",
       " (('<s>', 'j'), 675.0),\n",
       " (('k', 'a'), 634.0)]"
      ]
     },
     "execution_count": 77,
     "metadata": {},
     "output_type": "execute_result"
    }
   ],
   "source": [
    "sorted(bigrams.items(), key=lambda kv:-kv[1])[:10]"
   ]
  },
  {
   "cell_type": "code",
   "execution_count": null,
   "metadata": {},
   "outputs": [],
   "source": [
    "normalization = N.sum(axis=1, keepdims=True)\n",
    "P = N / normalization"
   ]
  },
  {
   "cell_type": "code",
   "execution_count": 92,
   "metadata": {},
   "outputs": [
    {
     "name": "stdout",
     "output_type": "stream",
     "text": [
      "velar\n",
      "mog\n",
      "ssarilkold\n",
      "stoelan\n",
      "veeko\n",
      "jorarrisaditi\n",
      "kas\n",
      "urtele-vo-pe\n",
      "a\n",
      "sshdan\n"
     ]
    }
   ],
   "source": [
    "for _ in range(10):\n",
    "    tokens = ['<s>']\n",
    "    while True:\n",
    "        recent = tokens[-1]\n",
    "        next_token_idx = np.random.multinomial(n=1, pvals=P[c2i[recent]]).argmax()\n",
    "        tokens.append(i2c[next_token_idx])\n",
    "\n",
    "        if i2c[next_token_idx] == '<e>':\n",
    "            break\n",
    "\n",
    "    print(''.join(tokens[1:-1]))"
   ]
  },
  {
   "cell_type": "code",
   "execution_count": null,
   "metadata": {},
   "outputs": [],
   "source": []
  }
 ],
 "metadata": {
  "kernelspec": {
   "display_name": "Python 3",
   "language": "python",
   "name": "python3"
  },
  "language_info": {
   "codemirror_mode": {
    "name": "ipython",
    "version": 3
   },
   "file_extension": ".py",
   "mimetype": "text/x-python",
   "name": "python",
   "nbconvert_exporter": "python",
   "pygments_lexer": "ipython3",
   "version": "3.10.7"
  },
  "orig_nbformat": 4,
  "vscode": {
   "interpreter": {
    "hash": "93d343a67186057eba7cc3f4fb38dbcf94a41bc6d951d30420561a381ab22bcf"
   }
  }
 },
 "nbformat": 4,
 "nbformat_minor": 2
}

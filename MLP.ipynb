{
 "cells": [
  {
   "attachments": {},
   "cell_type": "markdown",
   "metadata": {},
   "source": [
    "# Multilayer perceptron\n",
    "\n",
    "In this section, I will develop a neural network that will take in previous words' embedding vector as input, concatenate these vectors into one long vector, and feed the resulting vector into subsequent neural network."
   ]
  },
  {
   "cell_type": "code",
   "execution_count": 1,
   "metadata": {},
   "outputs": [],
   "source": [
    "from my_utils import names, chars, c2i, i2c\n",
    "import torch"
   ]
  },
  {
   "cell_type": "code",
   "execution_count": 3,
   "metadata": {},
   "outputs": [
    {
     "data": {
      "text/plain": [
       "6.379942865734476"
      ]
     },
     "execution_count": 3,
     "metadata": {},
     "output_type": "execute_result"
    }
   ],
   "source": [
    "import numpy as np\n",
    "\n",
    "np.mean([len(name) for name in names])"
   ]
  },
  {
   "cell_type": "code",
   "execution_count": 28,
   "metadata": {},
   "outputs": [],
   "source": [
    "preferred_length = 7\n",
    "def sliding_window(width: int, name: str):\n",
    "    name = list(name) + [\".\" for _ in range( max(preferred_length - len(name), 0))] # post-padding\n",
    "    Xs = []\n",
    "    Ys = []\n",
    "    for i in range(len(name)-width):\n",
    "        Xs.append([c2i[c] for c in name[i:i+width]])\n",
    "        Ys.append(c2i[name[i+width]])\n",
    "\n",
    "    return Xs, Ys"
   ]
  },
  {
   "cell_type": "code",
   "execution_count": 29,
   "metadata": {},
   "outputs": [
    {
     "data": {
      "text/plain": [
       "([[14, 43, 28], [43, 28, 26], [28, 26, 18], [26, 18, 18]], [26, 18, 18, 18])"
      ]
     },
     "execution_count": 29,
     "metadata": {},
     "output_type": "execute_result"
    }
   ],
   "source": [
    "sliding_window(width=3, name='juha')"
   ]
  },
  {
   "cell_type": "code",
   "execution_count": 30,
   "metadata": {},
   "outputs": [],
   "source": [
    "Xs, Ys = [], []\n",
    "width = 7\n",
    "for name in names:\n",
    "    x, y = sliding_window(width=width, name=name)\n",
    "    Xs.extend(x)\n",
    "    Ys.extend(y)"
   ]
  },
  {
   "cell_type": "code",
   "execution_count": 34,
   "metadata": {},
   "outputs": [],
   "source": [
    "Xs = torch.tensor(Xs)\n",
    "Ys = torch.tensor(Ys)"
   ]
  },
  {
   "cell_type": "code",
   "execution_count": 35,
   "metadata": {},
   "outputs": [],
   "source": [
    "import torch.nn.functional as F\n",
    "Xenc = F.one_hot(Xs, num_classes=len(c2i)).float()"
   ]
  },
  {
   "cell_type": "code",
   "execution_count": 36,
   "metadata": {},
   "outputs": [
    {
     "data": {
      "text/plain": [
       "torch.Size([5281, 7, 47])"
      ]
     },
     "execution_count": 36,
     "metadata": {},
     "output_type": "execute_result"
    }
   ],
   "source": [
    "Xenc.shape\n",
    "# (..., word_len, one_hot)"
   ]
  },
  {
   "cell_type": "code",
   "execution_count": 48,
   "metadata": {},
   "outputs": [
    {
     "data": {
      "text/plain": [
       "torch.Size([5, 7, 64])"
      ]
     },
     "execution_count": 48,
     "metadata": {},
     "output_type": "execute_result"
    }
   ],
   "source": [
    "Xenc_sample = Xenc[:5,:,:]\n",
    "Ys_sample = Ys[:5]"
   ]
  },
  {
   "cell_type": "code",
   "execution_count": 60,
   "metadata": {},
   "outputs": [],
   "source": [
    "# Define layers\n",
    "E = torch.randn(size=(47, 64), requires_grad=True)  # Embedding lookup matrix\n",
    "W1 = torch.randn(size=(64*preferred_length, 64), requires_grad=True) # Hidden layer\n",
    "O = torch.randn(size=(64, len(c2i)), requires_grad=True) # Output layer\n",
    "\n",
    "# Forward pass\n",
    "o1 = (Xenc_sample @ E).view(len(Xenc_sample), -1)\n",
    "o2 = (o1 @ W1).tanh()\n",
    "o3 = (o2 @ O).exp()\n",
    "o3_denom = o3.sum(dim=-1, keepdim=True)\n",
    "output = o3 / o3_denom\n",
    "\n",
    "# Loss function: Negative Log-likehood\n",
    "loss = -1 * output[ torch.arange(len(o3)) , Ys_sample].log()\n",
    "reduced_loss = loss.mean()\n",
    "\n",
    "reduced_loss.backward()"
   ]
  },
  {
   "cell_type": "code",
   "execution_count": 83,
   "metadata": {},
   "outputs": [],
   "source": [
    "# Define layers\n",
    "E = torch.randn(size=(47, 128), requires_grad=True)  # Embedding lookup matrix\n",
    "W1 = torch.randn(size=(128*preferred_length, 64), requires_grad=True) # Hidden layer\n",
    "b1 = torch.randn(64, requires_grad=True)\n",
    "O = torch.randn(size=(64, len(c2i)), requires_grad=True) # Output layer\n",
    "\n",
    "total_loss = 0.0"
   ]
  },
  {
   "cell_type": "code",
   "execution_count": 100,
   "metadata": {},
   "outputs": [
    {
     "data": {
      "text/plain": [
       "tensor([True, True, True, True, True, True, True, True, True, True, True, True,\n",
       "        True, True, True, True, True, True, True, True, True, True, True, True,\n",
       "        True, True, True, True, True, True, True, True, True, True, True, True,\n",
       "        True, True, True, True, True, True, True, True, True, True, True, True,\n",
       "        True, True, True, True, True, True, True, True, True, True, True, True,\n",
       "        True, True, True, True, True, True, True, True, True, True, True, True,\n",
       "        True, True, True, True, True, True, True, True, True, True, True, True,\n",
       "        True, True, True, True, True, True, True, True, True, True, True, True,\n",
       "        True, True, True, True, True, True, True, True, True, True, True, True,\n",
       "        True, True, True, True, True, True, True, True, True, True, True, True,\n",
       "        True, True, True, True, True, True, True, True])"
      ]
     },
     "execution_count": 100,
     "metadata": {},
     "output_type": "execute_result"
    }
   ],
   "source": [
    "# Matrix multiplying one-hot with the embedding is equivalent to looking up.\n",
    "(Xenc[0,0] @ E) == E[Xs[0,0]]"
   ]
  },
  {
   "cell_type": "code",
   "execution_count": 87,
   "metadata": {},
   "outputs": [
    {
     "name": "stdout",
     "output_type": "stream",
     "text": [
      "605.3622084259987\n",
      "610.2543538659811\n",
      "614.6013639867306\n",
      "618.493127182126\n",
      "621.9893566668034\n"
     ]
    }
   ],
   "source": [
    "for i in range(100):\n",
    "\n",
    "    Xenc_sample = Xenc[:100]\n",
    "    Ys_sample = Ys[:100]\n",
    "\n",
    "    # Forward pass\n",
    "    o1 = (Xenc_sample @ E).view(len(Xenc_sample), -1)\n",
    "    o2 = (o1 @ W1 + b1).tanh()\n",
    "    o3 = (o2 @ O).exp()\n",
    "    o3_denom = o3.sum(dim=-1, keepdim=True)\n",
    "    output = o3 / o3_denom\n",
    "\n",
    "    # Loss function: Negative Log-likehood\n",
    "    loss = -1 * output[ torch.arange(len(o3)) , Ys_sample].log()\n",
    "    reduced_loss = loss.mean()\n",
    "    total_loss += reduced_loss.item()\n",
    "\n",
    "    E.grad = None\n",
    "    W1.grad = None\n",
    "    O.grad = None\n",
    "\n",
    "    reduced_loss.backward()\n",
    "    O.data += -0.1 * O.grad\n",
    "    W1.data += -0.1 *W1.grad\n",
    "    E.data += -0.1 * E.grad\n",
    "\n",
    "    if i % 20 == 0:\n",
    "        print(total_loss)"
   ]
  },
  {
   "cell_type": "code",
   "execution_count": null,
   "metadata": {},
   "outputs": [],
   "source": []
  }
 ],
 "metadata": {
  "kernelspec": {
   "display_name": "Python 3",
   "language": "python",
   "name": "python3"
  },
  "language_info": {
   "codemirror_mode": {
    "name": "ipython",
    "version": 3
   },
   "file_extension": ".py",
   "mimetype": "text/x-python",
   "name": "python",
   "nbconvert_exporter": "python",
   "pygments_lexer": "ipython3",
   "version": "3.10.7"
  },
  "orig_nbformat": 4,
  "vscode": {
   "interpreter": {
    "hash": "93d343a67186057eba7cc3f4fb38dbcf94a41bc6d951d30420561a381ab22bcf"
   }
  }
 },
 "nbformat": 4,
 "nbformat_minor": 2
}

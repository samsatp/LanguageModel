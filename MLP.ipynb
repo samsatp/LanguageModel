{
 "cells": [
  {
   "attachments": {},
   "cell_type": "markdown",
   "metadata": {},
   "source": [
    "# Multilayer perceptron\n",
    "\n",
    "In this section, I will develop a neural network that will take in previous words' embedding vector as input, concatenate these vectors into one long vector, and feed the resulting vector into subsequent neural network."
   ]
  },
  {
   "cell_type": "code",
   "execution_count": 1,
   "metadata": {},
   "outputs": [],
   "source": [
    "from my_utils import names, chars, c2i, i2c\n",
    "import torch"
   ]
  },
  {
   "cell_type": "code",
   "execution_count": 23,
   "metadata": {},
   "outputs": [],
   "source": [
    "n = 3\n",
    "\n",
    "def sliding_window(name: str):\n",
    "    context = [c2i['<s>']] * n\n",
    "    Xs, Ys = [], []\n",
    "    for y in list(name) + ['<e>']:\n",
    "        Xs.append(context)\n",
    "        Ys.append(c2i[y])\n",
    "        context = context[1:]+[c2i[y]]\n",
    "\n",
    "    return Xs, Ys"
   ]
  },
  {
   "cell_type": "code",
   "execution_count": 24,
   "metadata": {},
   "outputs": [
    {
     "data": {
      "text/plain": [
       "([[0, 0, 0],\n",
       "  [0, 0, 40],\n",
       "  [0, 40, 33],\n",
       "  [40, 33, 42],\n",
       "  [33, 42, 31],\n",
       "  [42, 31, 2],\n",
       "  [31, 2, 45]],\n",
       " [40, 33, 42, 31, 2, 45, 46])"
      ]
     },
     "execution_count": 24,
     "metadata": {},
     "output_type": "execute_result"
    }
   ],
   "source": [
    "sliding_window(name='juhani')"
   ]
  },
  {
   "cell_type": "code",
   "execution_count": 26,
   "metadata": {},
   "outputs": [
    {
     "name": "stdout",
     "output_type": "stream",
     "text": [
      "Xs.shape=torch.Size([49084, 3]),\n",
      "Ys.shape=torch.Size([49084])\n"
     ]
    }
   ],
   "source": [
    "Xs, Ys = [], []\n",
    "n = 3  # Similar to N in N-gram\n",
    "for name in names:\n",
    "    x, y = sliding_window(name=name)\n",
    "    Xs.extend(x)\n",
    "    Ys.extend(y)\n",
    "\n",
    "Xs = torch.tensor(Xs)\n",
    "Ys = torch.tensor(Ys)\n",
    "\n",
    "print(f'{Xs.shape=},\\n{Ys.shape=}')"
   ]
  },
  {
   "cell_type": "code",
   "execution_count": 27,
   "metadata": {},
   "outputs": [
    {
     "data": {
      "text/plain": [
       "torch.Size([49084, 3, 47])"
      ]
     },
     "execution_count": 27,
     "metadata": {},
     "output_type": "execute_result"
    }
   ],
   "source": [
    "import torch.nn.functional as F\n",
    "Xenc = F.one_hot(Xs, num_classes=len(c2i)).float()\n",
    "\n",
    "Xenc.shape\n",
    "# (..., word_len, one_hot)"
   ]
  },
  {
   "attachments": {},
   "cell_type": "markdown",
   "metadata": {},
   "source": [
    "### Test run Forward-Backward"
   ]
  },
  {
   "cell_type": "code",
   "execution_count": 28,
   "metadata": {},
   "outputs": [],
   "source": [
    "Xenc_sample = Xenc[:5,:,:]\n",
    "Ys_sample = Ys[:5]\n",
    "\n",
    "# Define layers\n",
    "E = torch.randn(size=(47, 64), requires_grad=True)  # Embedding lookup matrix\n",
    "W1 = torch.randn(size=(64*n, 64), requires_grad=True) # Hidden layer\n",
    "O = torch.randn(size=(64, len(c2i)), requires_grad=True) # Output layer\n",
    "\n",
    "# Forward pass\n",
    "o1 = (Xenc_sample @ E).view(len(Xenc_sample), -1)\n",
    "o2 = (o1 @ W1).tanh()\n",
    "o3 = (o2 @ O).exp()\n",
    "o3_denom = o3.sum(dim=-1, keepdim=True)\n",
    "output = o3 / o3_denom\n",
    "\n",
    "# Loss function: Negative Log-likehood\n",
    "loss = -1 * output[ torch.arange(len(o3)) , Ys_sample].log()\n",
    "reduced_loss = loss.mean()\n",
    "\n",
    "reduced_loss.backward()"
   ]
  },
  {
   "attachments": {},
   "cell_type": "markdown",
   "metadata": {},
   "source": [
    "## Fully training"
   ]
  },
  {
   "cell_type": "code",
   "execution_count": 43,
   "metadata": {},
   "outputs": [],
   "source": [
    "# Define layers\n",
    "E = torch.randn((47, 128), requires_grad=True)  # Embedding lookup matrix\n",
    "W1 = torch.randn((128*n, 64), requires_grad=True) # Hidden layer\n",
    "b1 = torch.randn(64, requires_grad=True)\n",
    "O = torch.randn((64, len(c2i)), requires_grad=True) # Output layer\n",
    "b2 = torch.randn(len(c2i), requires_grad=True)\n",
    "\n",
    "parameters = [E, W1, b1, O, b2]\n",
    "total_loss = 0.0\n",
    "losses = []"
   ]
  },
  {
   "cell_type": "code",
   "execution_count": 44,
   "metadata": {},
   "outputs": [
    {
     "data": {
      "text/plain": [
       "tensor([True, True, True, True, True, True, True, True, True, True, True, True,\n",
       "        True, True, True, True, True, True, True, True, True, True, True, True,\n",
       "        True, True, True, True, True, True, True, True, True, True, True, True,\n",
       "        True, True, True, True, True, True, True, True, True, True, True, True,\n",
       "        True, True, True, True, True, True, True, True, True, True, True, True,\n",
       "        True, True, True, True, True, True, True, True, True, True, True, True,\n",
       "        True, True, True, True, True, True, True, True, True, True, True, True,\n",
       "        True, True, True, True, True, True, True, True, True, True, True, True,\n",
       "        True, True, True, True, True, True, True, True, True, True, True, True,\n",
       "        True, True, True, True, True, True, True, True, True, True, True, True,\n",
       "        True, True, True, True, True, True, True, True])"
      ]
     },
     "execution_count": 44,
     "metadata": {},
     "output_type": "execute_result"
    }
   ],
   "source": [
    "# Matrix multiplying one-hot with the embedding is equivalent to looking up.\n",
    "(Xenc[0,0] @ E) == E[Xs[0,0]]"
   ]
  },
  {
   "cell_type": "code",
   "execution_count": 45,
   "metadata": {},
   "outputs": [
    {
     "name": "stdout",
     "output_type": "stream",
     "text": [
      "16.894\n",
      "7.054\n",
      "5.287\n",
      "4.492\n",
      "4.025\n",
      "3.684\n",
      "3.454\n",
      "3.271\n",
      "3.133\n",
      "3.022\n",
      "2.927\n",
      "2.854\n",
      "2.782\n",
      "2.725\n",
      "2.675\n",
      "2.632\n",
      "2.602\n",
      "2.598\n",
      "2.594\n",
      "2.590\n",
      "2.587\n",
      "2.583\n",
      "2.579\n",
      "2.576\n",
      "2.572\n",
      "2.569\n",
      "2.565\n",
      "2.562\n",
      "2.558\n",
      "2.555\n",
      "2.551\n",
      "2.548\n",
      "2.545\n",
      "2.541\n",
      "2.538\n",
      "2.535\n",
      "2.532\n",
      "2.529\n",
      "2.526\n",
      "2.523\n",
      "2.520\n",
      "2.517\n",
      "2.515\n",
      "2.512\n",
      "2.509\n",
      "2.506\n",
      "2.504\n",
      "2.501\n",
      "2.498\n",
      "2.496\n",
      "2.493\n",
      "2.490\n",
      "2.488\n",
      "2.485\n",
      "2.483\n",
      "2.480\n",
      "2.477\n",
      "2.475\n",
      "2.472\n",
      "2.470\n",
      "2.467\n",
      "2.465\n",
      "2.463\n"
     ]
    },
    {
     "ename": "KeyboardInterrupt",
     "evalue": "",
     "output_type": "error",
     "traceback": [
      "\u001b[1;31m---------------------------------------------------------------------------\u001b[0m",
      "\u001b[1;31mKeyboardInterrupt\u001b[0m                         Traceback (most recent call last)",
      "Cell \u001b[1;32mIn [45], line 16\u001b[0m\n\u001b[0;32m     13\u001b[0m \u001b[39mfor\u001b[39;00m parameter \u001b[39min\u001b[39;00m parameters:\n\u001b[0;32m     14\u001b[0m     parameter\u001b[39m.\u001b[39mgrad \u001b[39m=\u001b[39m \u001b[39mNone\u001b[39;00m\n\u001b[1;32m---> 16\u001b[0m loss\u001b[39m.\u001b[39;49mbackward()\n\u001b[0;32m     18\u001b[0m lr \u001b[39m=\u001b[39m \u001b[39m1.0\u001b[39m \u001b[39mif\u001b[39;00m i \u001b[39m<\u001b[39m \u001b[39m300\u001b[39m \u001b[39melse\u001b[39;00m \u001b[39m0.1\u001b[39m\n\u001b[0;32m     19\u001b[0m \u001b[39mfor\u001b[39;00m parameter \u001b[39min\u001b[39;00m parameters:\n",
      "File \u001b[1;32mc:\\Users\\sam_s\\AppData\\Local\\Programs\\Python\\Python310\\lib\\site-packages\\torch\\_tensor.py:488\u001b[0m, in \u001b[0;36mTensor.backward\u001b[1;34m(self, gradient, retain_graph, create_graph, inputs)\u001b[0m\n\u001b[0;32m    478\u001b[0m \u001b[39mif\u001b[39;00m has_torch_function_unary(\u001b[39mself\u001b[39m):\n\u001b[0;32m    479\u001b[0m     \u001b[39mreturn\u001b[39;00m handle_torch_function(\n\u001b[0;32m    480\u001b[0m         Tensor\u001b[39m.\u001b[39mbackward,\n\u001b[0;32m    481\u001b[0m         (\u001b[39mself\u001b[39m,),\n\u001b[1;32m   (...)\u001b[0m\n\u001b[0;32m    486\u001b[0m         inputs\u001b[39m=\u001b[39minputs,\n\u001b[0;32m    487\u001b[0m     )\n\u001b[1;32m--> 488\u001b[0m torch\u001b[39m.\u001b[39;49mautograd\u001b[39m.\u001b[39;49mbackward(\n\u001b[0;32m    489\u001b[0m     \u001b[39mself\u001b[39;49m, gradient, retain_graph, create_graph, inputs\u001b[39m=\u001b[39;49minputs\n\u001b[0;32m    490\u001b[0m )\n",
      "File \u001b[1;32mc:\\Users\\sam_s\\AppData\\Local\\Programs\\Python\\Python310\\lib\\site-packages\\torch\\autograd\\__init__.py:197\u001b[0m, in \u001b[0;36mbackward\u001b[1;34m(tensors, grad_tensors, retain_graph, create_graph, grad_variables, inputs)\u001b[0m\n\u001b[0;32m    192\u001b[0m     retain_graph \u001b[39m=\u001b[39m create_graph\n\u001b[0;32m    194\u001b[0m \u001b[39m# The reason we repeat same the comment below is that\u001b[39;00m\n\u001b[0;32m    195\u001b[0m \u001b[39m# some Python versions print out the first line of a multi-line function\u001b[39;00m\n\u001b[0;32m    196\u001b[0m \u001b[39m# calls in the traceback and some print out the last line\u001b[39;00m\n\u001b[1;32m--> 197\u001b[0m Variable\u001b[39m.\u001b[39;49m_execution_engine\u001b[39m.\u001b[39;49mrun_backward(  \u001b[39m# Calls into the C++ engine to run the backward pass\u001b[39;49;00m\n\u001b[0;32m    198\u001b[0m     tensors, grad_tensors_, retain_graph, create_graph, inputs,\n\u001b[0;32m    199\u001b[0m     allow_unreachable\u001b[39m=\u001b[39;49m\u001b[39mTrue\u001b[39;49;00m, accumulate_grad\u001b[39m=\u001b[39;49m\u001b[39mTrue\u001b[39;49;00m)\n",
      "\u001b[1;31mKeyboardInterrupt\u001b[0m: "
     ]
    }
   ],
   "source": [
    "for i in range(2000):\n",
    "\n",
    "    Xenc_sample = Xenc\n",
    "    Ys_sample = Ys\n",
    "\n",
    "    # Forward pass\n",
    "    o1 = (Xenc_sample @ E).view(len(Xenc_sample), -1)\n",
    "    o2 = (o1 @ W1 + b1).tanh()\n",
    "    logits = o2 @ O + b2\n",
    "    loss = F.cross_entropy(logits, Ys_sample)\n",
    "    total_loss += loss\n",
    "\n",
    "    for parameter in parameters:\n",
    "        parameter.grad = None\n",
    "        \n",
    "    loss.backward()\n",
    "\n",
    "    lr = 1.0 if i < 300 else 0.1\n",
    "    for parameter in parameters:\n",
    "        parameter.data += -lr * parameter.grad\n",
    "\n",
    "    if i % 100 == 0:\n",
    "        print(f'{loss.item():.3f}')\n",
    "    losses.append(loss.item())"
   ]
  },
  {
   "cell_type": "code",
   "execution_count": 46,
   "metadata": {},
   "outputs": [
    {
     "data": {
      "image/png": "[encoded data removed]",
      "text/plain": [
       "<Figure size 640x480 with 1 Axes>"
      ]
     },
     "metadata": {},
     "output_type": "display_data"
    }
   ],
   "source": [
    "import matplotlib.pyplot as plt\n",
    "\n",
    "plt.plot(list(range(len(losses))), losses)\n",
    "plt.xlabel('Epochs')\n",
    "plt.ylabel('Loss')\n",
    "plt.show()"
   ]
  },
  {
   "attachments": {},
   "cell_type": "markdown",
   "metadata": {},
   "source": [
    "# Try generating"
   ]
  },
  {
   "cell_type": "code",
   "execution_count": 59,
   "metadata": {},
   "outputs": [
    {
     "name": "stdout",
     "output_type": "stream",
     "text": [
      "roer\n",
      "abdar\n",
      "cetheía\n",
      "sky\n",
      "pus\n"
     ]
    }
   ],
   "source": [
    "for _ in range(5):\n",
    "    tokens = [c2i['<s>']] * n\n",
    "\n",
    "    while True:\n",
    "        recent_token = torch.tensor([tokens[-n:]])\n",
    "        input_vector = F.one_hot(recent_token, num_classes=len(c2i)).float()\n",
    "\n",
    "        o1 = (input_vector @ E).view(len(input_vector), -1)\n",
    "        o2 = (o1 @ W1 + b1).tanh()\n",
    "        logits_output = o2 @ O + b2\n",
    "        counts_output = logits_output.exp()\n",
    "        probs_output = counts_output / counts_output.sum(1, keepdims=True)\n",
    "\n",
    "        next_idx = torch.multinomial(probs_output, num_samples = 1).item()\n",
    "        tokens.append(next_idx)\n",
    "        \n",
    "        if i2c[next_idx] == '<e>':\n",
    "            break\n",
    "\n",
    "    print(''.join([i2c[i] for i in tokens][3:-1]))"
   ]
  },
  {
   "cell_type": "code",
   "execution_count": null,
   "metadata": {},
   "outputs": [],
   "source": []
  }
 ],
 "metadata": {
  "kernelspec": {
   "display_name": "Python 3",
   "language": "python",
   "name": "python3"
  },
  "language_info": {
   "codemirror_mode": {
    "name": "ipython",
    "version": 3
   },
   "file_extension": ".py",
   "mimetype": "text/x-python",
   "name": "python",
   "nbconvert_exporter": "python",
   "pygments_lexer": "ipython3",
   "version": "3.10.7"
  },
  "orig_nbformat": 4,
  "vscode": {
   "interpreter": {
    "hash": "93d343a67186057eba7cc3f4fb38dbcf94a41bc6d951d30420561a381ab22bcf"
   }
  }
 },
 "nbformat": 4,
 "nbformat_minor": 2
}

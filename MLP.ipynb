{
 "cells": [
  {
   "attachments": {},
   "cell_type": "markdown",
   "metadata": {},
   "source": [
    "# Multilayer perceptron\n",
    "\n",
    "In this section, I will develop a neural network that will take in previous words' embedding vector as input, concatenate these vectors into one long vector, and feed the resulting vector into subsequent neural network."
   ]
  },
  {
   "cell_type": "code",
   "execution_count": 1,
   "metadata": {},
   "outputs": [],
   "source": [
    "from my_utils import names, chars, c2i, i2c\n",
    "import torch"
   ]
  },
  {
   "cell_type": "code",
   "execution_count": 2,
   "metadata": {},
   "outputs": [],
   "source": [
    "n = 3  # N as in N-gram\n",
    "\n",
    "def sliding_window(name: str):\n",
    "    \"\"\"\n",
    "        This function constructs model's inputs\n",
    "    \"\"\"\n",
    "    context = [c2i['<s>']] * n\n",
    "    Xs, Ys = [], []\n",
    "    for y in list(name) + ['<e>']:\n",
    "        Xs.append(context)\n",
    "        Ys.append(c2i[y])\n",
    "        context = context[1:]+[c2i[y]]\n",
    "\n",
    "    return Xs, Ys"
   ]
  },
  {
   "cell_type": "code",
   "execution_count": 3,
   "metadata": {},
   "outputs": [
    {
     "data": {
      "text/plain": [
       "([[0, 0, 0],\n",
       "  [0, 0, 27],\n",
       "  [0, 27, 26],\n",
       "  [27, 26, 4],\n",
       "  [26, 4, 45],\n",
       "  [4, 45, 1],\n",
       "  [45, 1, 30]],\n",
       " [27, 26, 4, 45, 1, 30, 46])"
      ]
     },
     "execution_count": 3,
     "metadata": {},
     "output_type": "execute_result"
    }
   ],
   "source": [
    "sliding_window(name='juhani')"
   ]
  },
  {
   "attachments": {},
   "cell_type": "markdown",
   "metadata": {},
   "source": [
    "### Train-val-test split"
   ]
  },
  {
   "cell_type": "code",
   "execution_count": 9,
   "metadata": {},
   "outputs": [
    {
     "name": "stdout",
     "output_type": "stream",
     "text": [
      "X_train.shape=torch.Size([39267, 3]),\n",
      "Y_train.shape=torch.Size([39267])\n",
      "\n",
      "X_val.shape=torch.Size([4908, 3]),\n",
      "Y_val.shape=torch.Size([4908])\n",
      "\n",
      "X_test.shape=torch.Size([4909, 3]),\n",
      "Y_test.shape=torch.Size([4909])\n",
      "\n"
     ]
    }
   ],
   "source": [
    "import random\n",
    "\n",
    "Xs, Ys = [], []\n",
    "for name in names:\n",
    "    x, y = sliding_window(name=name)\n",
    "    Xs.extend(x)\n",
    "    Ys.extend(y)\n",
    "\n",
    "indices = list(range(len(Xs)))\n",
    "train_idx = indices[int(len(indices)*0.8)]\n",
    "val_idx = indices[int(len(indices)*0.9)]\n",
    "\n",
    "random.shuffle(indices)\n",
    "Xs = torch.tensor(Xs)\n",
    "Ys = torch.tensor(Ys)\n",
    "X_train, Y_train = Xs[indices[:train_idx]], Ys[indices[:train_idx]]\n",
    "X_val, Y_val = Xs[indices[train_idx:val_idx]], Ys[indices[train_idx:val_idx]]\n",
    "X_test, Y_test = Xs[indices[val_idx:]], Ys[indices[val_idx:]]\n",
    "\n",
    "print(f'{X_train.shape=},\\n{Y_train.shape=}\\n')\n",
    "print(f'{X_val.shape=},\\n{Y_val.shape=}\\n')\n",
    "print(f'{X_test.shape=},\\n{Y_test.shape=}\\n')"
   ]
  },
  {
   "attachments": {},
   "cell_type": "markdown",
   "metadata": {},
   "source": [
    "### Test run Forward-Backward"
   ]
  },
  {
   "cell_type": "code",
   "execution_count": 13,
   "metadata": {},
   "outputs": [
    {
     "data": {
      "text/plain": [
       "torch.Size([39267, 3, 47])"
      ]
     },
     "execution_count": 13,
     "metadata": {},
     "output_type": "execute_result"
    }
   ],
   "source": [
    "\"\"\"\n",
    "    Word representation method: word embedding\n",
    "    We first one-hot encode a word. Then, use one-hot vector\n",
    "    to pluck out an embedding vector from the Embedding matrix.\n",
    "    Alternatively, we can simply use word index to grapse \n",
    "    its corresponding embedding vector as well. Here we'll use\n",
    "    the former approach. (Both are 100% the same functionality,\n",
    "    but I guess using word indexing is faster as it requires no\n",
    "    matrix multiplication)\n",
    "\"\"\"\n",
    "import torch.nn.functional as F\n",
    "Xenc = F.one_hot(X_train, num_classes=len(c2i)).float()\n",
    "\n",
    "Xenc.shape\n",
    "# (..., word_len, one_hot)"
   ]
  },
  {
   "cell_type": "code",
   "execution_count": 12,
   "metadata": {},
   "outputs": [],
   "source": [
    "Xenc_sample = Xenc[:5,:,:]\n",
    "Ys_sample = Y_train[:5]\n",
    "\n",
    "# Define layers\n",
    "E = torch.randn(size=(47, 64), requires_grad=True)  # Embedding lookup matrix\n",
    "W1 = torch.randn(size=(64*n, 64), requires_grad=True) # Hidden layer\n",
    "O = torch.randn(size=(64, len(c2i)), requires_grad=True) # Output layer\n",
    "\n",
    "# Forward pass\n",
    "o1 = (Xenc_sample @ E).view(len(Xenc_sample), -1)\n",
    "o2 = (o1 @ W1).tanh()\n",
    "o3 = (o2 @ O).exp()\n",
    "o3_denom = o3.sum(dim=-1, keepdim=True)\n",
    "output = o3 / o3_denom\n",
    "\n",
    "# Loss function: Negative Log-likehood\n",
    "loss = -1 * output[ torch.arange(len(o3)) , Ys_sample].log()\n",
    "reduced_loss = loss.mean()\n",
    "\n",
    "reduced_loss.backward()"
   ]
  },
  {
   "attachments": {},
   "cell_type": "markdown",
   "metadata": {},
   "source": [
    "### Fully training"
   ]
  },
  {
   "cell_type": "code",
   "execution_count": 19,
   "metadata": {},
   "outputs": [],
   "source": [
    "# Define layers\n",
    "E = torch.randn((47, 128), requires_grad=True)  # Embedding lookup matrix\n",
    "W1 = torch.randn((128*n, 64), requires_grad=True) # Hidden layer 1\n",
    "b1 = torch.randn(64, requires_grad=True) # Bias for layer 1\n",
    "O = torch.randn((64, len(c2i)), requires_grad=True) # Output layer\n",
    "b2 = torch.randn(len(c2i), requires_grad=True) # Bias for output layer\n",
    "\n",
    "parameters = [E, W1, b1, O, b2]\n",
    "total_loss = 0.0\n",
    "train_losses, val_losses = [], []"
   ]
  },
  {
   "cell_type": "code",
   "execution_count": 20,
   "metadata": {},
   "outputs": [
    {
     "data": {
      "text/plain": [
       "tensor([True, True, True, True, True, True, True, True, True, True, True, True,\n",
       "        True, True, True, True, True, True, True, True, True, True, True, True,\n",
       "        True, True, True, True, True, True, True, True, True, True, True, True,\n",
       "        True, True, True, True, True, True, True, True, True, True, True, True,\n",
       "        True, True, True, True, True, True, True, True, True, True, True, True,\n",
       "        True, True, True, True, True, True, True, True, True, True, True, True,\n",
       "        True, True, True, True, True, True, True, True, True, True, True, True,\n",
       "        True, True, True, True, True, True, True, True, True, True, True, True,\n",
       "        True, True, True, True, True, True, True, True, True, True, True, True,\n",
       "        True, True, True, True, True, True, True, True, True, True, True, True,\n",
       "        True, True, True, True, True, True, True, True])"
      ]
     },
     "execution_count": 20,
     "metadata": {},
     "output_type": "execute_result"
    }
   ],
   "source": [
    "# Matrix multiplying one-hot with the embedding is equivalent to looking up.\n",
    "(Xenc[0,0] @ E) == E[Xs[0,0]]"
   ]
  },
  {
   "cell_type": "code",
   "execution_count": 21,
   "metadata": {},
   "outputs": [],
   "source": [
    "Xenc_train = F.one_hot(X_train, num_classes=len(c2i)).float()\n",
    "Xenc_val = F.one_hot(X_val, num_classes=len(c2i)).float()\n",
    "Xenc_test = F.one_hot(X_test, num_classes=len(c2i)).float()"
   ]
  },
  {
   "cell_type": "code",
   "execution_count": 22,
   "metadata": {},
   "outputs": [
    {
     "name": "stdout",
     "output_type": "stream",
     "text": [
      "Train loss: 18.417\tVal loss: 15.9\n",
      "Train loss: 3.575\tVal loss: 3.72\n",
      "Train loss: 2.854\tVal loss: 3.04\n",
      "Train loss: 2.576\tVal loss: 2.74\n",
      "Train loss: 2.543\tVal loss: 2.71\n",
      "Train loss: 2.526\tVal loss: 2.69\n",
      "Train loss: 2.510\tVal loss: 2.68\n",
      "Train loss: 2.496\tVal loss: 2.66\n",
      "Train loss: 2.482\tVal loss: 2.65\n",
      "Train loss: 2.469\tVal loss: 2.64\n"
     ]
    }
   ],
   "source": [
    "for i in range(1000):\n",
    "\n",
    "    # Forward pass\n",
    "    o1 = (Xenc_train @ E).view(len(Xenc_train), -1)\n",
    "    o2 = (o1 @ W1 + b1).tanh()\n",
    "    logits = o2 @ O + b2\n",
    "    train_loss = F.cross_entropy(logits, Y_train)\n",
    "    total_loss += train_loss\n",
    "\n",
    "    # Refresh gradient of all parameters\n",
    "    for parameter in parameters:\n",
    "        parameter.grad = None\n",
    "        \n",
    "    # Backward pass\n",
    "    train_loss.backward()\n",
    "\n",
    "    # Update parameters\n",
    "    lr = 1.0 if i < 300 else 0.1\n",
    "    for parameter in parameters:\n",
    "        parameter.data += -lr * parameter.grad\n",
    "\n",
    "    # Evaluation on val set\n",
    "    if i % 100 == 0:\n",
    "        o1 = (Xenc_val @ E).view(len(Xenc_val), -1)\n",
    "        o2 = (o1 @ W1 + b1).tanh()\n",
    "        val_logits = o2 @ O + b2\n",
    "        val_loss = F.cross_entropy(val_logits, Y_val)\n",
    "        print(f'Train loss: {train_loss.item():.3f}\\tVal loss: {val_loss.item():.3f}')\n",
    "    train_losses.append(train_loss.item())\n",
    "    val_losses.append(val_loss.item())"
   ]
  },
  {
   "cell_type": "code",
   "execution_count": 26,
   "metadata": {},
   "outputs": [
    {
     "data": {
      "image/png": "[encoded data removed]",
      "text/plain": [
       "<Figure size 1000x500 with 2 Axes>"
      ]
     },
     "metadata": {},
     "output_type": "display_data"
    }
   ],
   "source": [
    "import matplotlib.pyplot as plt\n",
    "fig, ax = plt.subplots(1,2, figsize=(10,5))\n",
    "ax[0].plot(list(range(len(train_losses))), train_losses)\n",
    "ax[0].set_xlabel('Epochs')\n",
    "ax[0].set_ylabel('Loss')\n",
    "ax[0].set_title('Train loss')\n",
    "\n",
    "ax[1].plot(list(range(len(val_losses))), val_losses)\n",
    "ax[1].set_xlabel('Epochs')\n",
    "ax[1].set_ylabel('Loss')\n",
    "ax[1].set_title('Val loss')\n",
    "\n",
    "plt.show()"
   ]
  },
  {
   "attachments": {},
   "cell_type": "markdown",
   "metadata": {},
   "source": [
    "### Try generating"
   ]
  },
  {
   "cell_type": "code",
   "execution_count": 27,
   "metadata": {},
   "outputs": [
    {
     "name": "stdout",
     "output_type": "stream",
     "text": [
      "laserjene\n",
      "oamani\n",
      "gccab\n",
      "muthi-ker\n",
      "sis\n"
     ]
    }
   ],
   "source": [
    "for _ in range(5):\n",
    "    tokens = [c2i['<s>']] * n\n",
    "\n",
    "    while True:\n",
    "        recent_token = torch.tensor([tokens[-n:]])\n",
    "        input_vector = F.one_hot(recent_token, num_classes=len(c2i)).float()\n",
    "\n",
    "        o1 = (input_vector @ E).view(len(input_vector), -1)\n",
    "        o2 = (o1 @ W1 + b1).tanh()\n",
    "        logits_output = o2 @ O + b2\n",
    "        counts_output = logits_output.exp()\n",
    "        probs_output = counts_output / counts_output.sum(1, keepdims=True)\n",
    "\n",
    "        next_idx = torch.multinomial(probs_output, num_samples = 1).item()\n",
    "        tokens.append(next_idx)\n",
    "        \n",
    "        if i2c[next_idx] == '<e>':\n",
    "            break\n",
    "\n",
    "    print(''.join([i2c[i] for i in tokens][3:-1]))"
   ]
  },
  {
   "cell_type": "code",
   "execution_count": null,
   "metadata": {},
   "outputs": [],
   "source": []
  }
 ],
 "metadata": {
  "kernelspec": {
   "display_name": "Python 3",
   "language": "python",
   "name": "python3"
  },
  "language_info": {
   "codemirror_mode": {
    "name": "ipython",
    "version": 3
   },
   "file_extension": ".py",
   "mimetype": "text/x-python",
   "name": "python",
   "nbconvert_exporter": "python",
   "pygments_lexer": "ipython3",
   "version": "3.10.7"
  },
  "orig_nbformat": 4,
  "vscode": {
   "interpreter": {
    "hash": "93d343a67186057eba7cc3f4fb38dbcf94a41bc6d951d30420561a381ab22bcf"
   }
  }
 },
 "nbformat": 4,
 "nbformat_minor": 2
}
